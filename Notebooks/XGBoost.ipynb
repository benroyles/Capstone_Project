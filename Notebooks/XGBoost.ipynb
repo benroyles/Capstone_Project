{
 "cells": [
  {
   "cell_type": "markdown",
   "id": "8475c347",
   "metadata": {},
   "source": [
    "# XGBoost\n",
    "by Ben Royles"
   ]
  },
  {
   "cell_type": "markdown",
   "id": "2df60c88",
   "metadata": {
    "toc": true
   },
   "source": [
    "<h1>Table of Contents<span class=\"tocSkip\"></span></h1>\n",
    "<div class=\"toc\"><ul class=\"toc-item\"><li><span><a href=\"#XGBoost\" data-toc-modified-id=\"XGBoost-0\"><span class=\"toc-item-num\">0&nbsp;&nbsp;</span>XGBoost</a></span></li><li><span><a href=\"#Data-Prep\" data-toc-modified-id=\"Data-Prep-1\"><span class=\"toc-item-num\">1&nbsp;&nbsp;</span>Data Prep</a></span></li><li><span><a href=\"#XGBoost\" data-toc-modified-id=\"XGBoost-2\"><span class=\"toc-item-num\">2&nbsp;&nbsp;</span>XGBoost</a></span></li><li><span><a href=\"#Binary-XGBoost\" data-toc-modified-id=\"Binary-XGBoost-3\"><span class=\"toc-item-num\">3&nbsp;&nbsp;</span>Binary XGBoost</a></span></li></ul></div>"
   ]
  },
  {
   "cell_type": "code",
   "execution_count": 1,
   "id": "e1b39ab6",
   "metadata": {},
   "outputs": [
    {
     "data": {
      "text/plain": [
       "(61845, 216)"
      ]
     },
     "execution_count": 1,
     "metadata": {},
     "output_type": "execute_result"
    }
   ],
   "source": [
    "import pandas as pd\n",
    "import numpy as np\n",
    "import matplotlib.pyplot as plt\n",
    "import seaborn as sns \n",
    "from sklearn.model_selection import train_test_split\n",
    "from sklearn.preprocessing import StandardScaler\n",
    "\n",
    "sns.set()\n",
    "\n",
    "df = pd.read_csv('complete.csv')\n",
    "df.shape"
   ]
  },
  {
   "cell_type": "code",
   "execution_count": 2,
   "id": "1107b83c",
   "metadata": {},
   "outputs": [
    {
     "data": {
      "text/plain": [
       "['id',\n",
       " 'League',\n",
       " 'Season',\n",
       " 'Date',\n",
       " 'Team',\n",
       " 'Against',\n",
       " 'HomeStadium',\n",
       " 'HomeCapacity',\n",
       " 'Match Week',\n",
       " 'FullTimeResult',\n",
       " 'DistanceTraveled in Km',\n",
       " 'Weekday',\n",
       " 'Month',\n",
       " 'FullTimeGoalsFor_home',\n",
       " 'FullTimeGoalsFor_away',\n",
       " 'FullTimeGoalsAgainst_home',\n",
       " 'FullTimeGoalsAgainst_away',\n",
       " 'HalfTimeGoalsFor_home',\n",
       " 'HalfTimeGoalsFor_away',\n",
       " 'HalfTimeGoalsAgainst_home',\n",
       " 'HalfTimeGoalsAgainst_away',\n",
       " 'HalfTimeResult_home',\n",
       " 'HalfTimeResult_away',\n",
       " 'Points_home',\n",
       " 'Points_away',\n",
       " 'Points before match_home',\n",
       " 'Points before match_away',\n",
       " 'League Position_home',\n",
       " 'League Position_away',\n",
       " 'Form_home',\n",
       " 'Form_away',\n",
       " 'AverageFullTimeGoalsFor_home',\n",
       " 'AverageFullTimeGoalsFor_away',\n",
       " 'AverageFullTimeGoalsAgainst_home',\n",
       " 'AverageFullTimeGoalsAgainst_away',\n",
       " 'AverageHalfTimeGoalsFor_home',\n",
       " 'AverageHalfTimeGoalsFor_away',\n",
       " 'AverageHalfTimeGoalsAgainst_home',\n",
       " 'AverageHalfTimeGoalsAgainst_away',\n",
       " 'AverageShots_home',\n",
       " 'AverageShots_away',\n",
       " 'AverageShotsAgainst_home',\n",
       " 'AverageShotsAgainst_away',\n",
       " 'AverageShotsOnTarget_home',\n",
       " 'AverageShotsOnTarget_away',\n",
       " 'AverageShotsOnTargetAgainst_home',\n",
       " 'AverageShotsOnTargetAgainst_away',\n",
       " 'AverageFoulsCommited_home',\n",
       " 'AverageFoulsCommited_away',\n",
       " 'AverageFoulsAgainst_home',\n",
       " 'AverageFoulsAgainst_away',\n",
       " 'AverageCorners_home',\n",
       " 'AverageCorners_away',\n",
       " 'AverageCornersAgainst_home',\n",
       " 'AverageCornersAgainst_away',\n",
       " 'AverageYellowCards_home',\n",
       " 'AverageYellowCards_away',\n",
       " 'AverageYellowCardsAgainst_home',\n",
       " 'AverageYellowCardsAgainst_away',\n",
       " 'AverageRedCards_home',\n",
       " 'AverageRedCards_away',\n",
       " 'AverageRedCardsAgainst_home',\n",
       " 'AverageRedCardsAgainst_away',\n",
       " 'Country_Belgium',\n",
       " 'Country_England',\n",
       " 'Country_France',\n",
       " 'Country_Germany',\n",
       " 'Country_Greece',\n",
       " 'Country_Italy',\n",
       " 'Country_Netherlands',\n",
       " 'Country_Portugal',\n",
       " 'Country_Scotland',\n",
       " 'Country_Spain',\n",
       " 'Country_Turkey',\n",
       " 'Div_B1',\n",
       " 'Div_D1',\n",
       " 'Div_D2',\n",
       " 'Div_E0',\n",
       " 'Div_E1',\n",
       " 'Div_F1',\n",
       " 'Div_F2',\n",
       " 'Div_G1',\n",
       " 'Div_I1',\n",
       " 'Div_I2',\n",
       " 'Div_N1',\n",
       " 'Div_P1',\n",
       " 'Div_SC0',\n",
       " 'Div_SC1',\n",
       " 'Div_SP1',\n",
       " 'Div_SP2',\n",
       " 'Div_T1',\n",
       " 'HomeCity_A Coruña ',\n",
       " 'HomeCity_Aberdeen',\n",
       " 'HomeCity_Ajaccio ',\n",
       " 'HomeCity_Almería ',\n",
       " 'HomeCity_Annecy ',\n",
       " 'HomeCity_Augsburg ',\n",
       " 'HomeCity_Auxerre ',\n",
       " 'HomeCity_Barcelona ',\n",
       " 'HomeCity_Barnsley ',\n",
       " 'HomeCity_Bastia ',\n",
       " 'HomeCity_Berlin ',\n",
       " 'HomeCity_Bilbao ',\n",
       " 'HomeCity_Birmingham ',\n",
       " 'HomeCity_Blackburn ',\n",
       " 'HomeCity_Blackpool ',\n",
       " 'HomeCity_Bolton ',\n",
       " 'HomeCity_Bordeaux ',\n",
       " 'HomeCity_Bournemouth',\n",
       " 'HomeCity_Braunschweig ',\n",
       " 'HomeCity_Bremen ',\n",
       " 'HomeCity_Brest',\n",
       " 'HomeCity_Brighton ',\n",
       " 'HomeCity_Bristol ',\n",
       " 'HomeCity_Burnley ',\n",
       " 'HomeCity_Caen ',\n",
       " 'HomeCity_Cardiff ',\n",
       " 'HomeCity_Cologne ',\n",
       " 'HomeCity_Cornellà de Llobregat ',\n",
       " 'HomeCity_Coventry ',\n",
       " 'HomeCity_Derby ',\n",
       " 'HomeCity_Dijon',\n",
       " 'HomeCity_Dingvall',\n",
       " 'HomeCity_Doncaster ',\n",
       " 'HomeCity_Dortmund ',\n",
       " 'HomeCity_Dundee',\n",
       " 'HomeCity_Dunfermline',\n",
       " 'HomeCity_Düsseldorf ',\n",
       " 'HomeCity_Edinburgh',\n",
       " 'HomeCity_Elche ',\n",
       " 'HomeCity_Falkirk',\n",
       " 'HomeCity_Frankfurt ',\n",
       " 'HomeCity_Freiburg ',\n",
       " 'HomeCity_Fürth ',\n",
       " 'HomeCity_Gelsenkirchen ',\n",
       " 'HomeCity_Getafe ',\n",
       " 'HomeCity_Gijón',\n",
       " 'HomeCity_Glasgow',\n",
       " 'HomeCity_Granada ',\n",
       " 'HomeCity_Greenwich',\n",
       " 'HomeCity_Guingamp ',\n",
       " 'HomeCity_Hamburg ',\n",
       " 'HomeCity_Hamilton',\n",
       " 'HomeCity_Hanover ',\n",
       " 'HomeCity_Huddersfield',\n",
       " 'HomeCity_Ipswich ',\n",
       " 'HomeCity_Iverness',\n",
       " 'HomeCity_Kaiserslautern ',\n",
       " 'HomeCity_Kilmarnock',\n",
       " 'HomeCity_Kingston upon Hull ',\n",
       " 'HomeCity_Leeds ',\n",
       " 'HomeCity_Leicester ',\n",
       " 'HomeCity_Leverkusen ',\n",
       " 'HomeCity_Liverpool ',\n",
       " 'HomeCity_Livingston',\n",
       " 'HomeCity_London ',\n",
       " 'HomeCity_Lorient ',\n",
       " 'HomeCity_Luton',\n",
       " 'HomeCity_Lyon ',\n",
       " 'HomeCity_Madrid ',\n",
       " 'HomeCity_Mainz ',\n",
       " 'HomeCity_Manchester ',\n",
       " 'HomeCity_Marseille ',\n",
       " 'HomeCity_Middlesbrough ',\n",
       " 'HomeCity_Monaco ',\n",
       " 'HomeCity_Montbéliard ',\n",
       " 'HomeCity_Montpellier ',\n",
       " 'HomeCity_Motherwell',\n",
       " 'HomeCity_Munich ',\n",
       " 'HomeCity_Málaga ',\n",
       " 'HomeCity_Mönchengladbach ',\n",
       " 'HomeCity_Nantes ',\n",
       " 'HomeCity_Newcastle upon Tyne ',\n",
       " 'HomeCity_Nice ',\n",
       " 'HomeCity_Norwich ',\n",
       " 'HomeCity_Nottingham ',\n",
       " 'HomeCity_Nuremberg ',\n",
       " 'HomeCity_Paisley',\n",
       " 'HomeCity_Palma ',\n",
       " 'HomeCity_Pamplona ',\n",
       " 'HomeCity_Paris ',\n",
       " 'HomeCity_Perth',\n",
       " 'HomeCity_Peterborough ',\n",
       " 'HomeCity_Preston',\n",
       " 'HomeCity_Reading ',\n",
       " 'HomeCity_Reims ',\n",
       " 'HomeCity_Rennes ',\n",
       " 'HomeCity_Rotherham',\n",
       " 'HomeCity_Saint-Étienne ',\n",
       " 'HomeCity_San Sebastián ',\n",
       " 'HomeCity_Santander',\n",
       " 'HomeCity_Seville ',\n",
       " 'HomeCity_Sheffield',\n",
       " 'HomeCity_Sinsheim ',\n",
       " 'HomeCity_Southampton ',\n",
       " 'HomeCity_Stoke-on-Trent ',\n",
       " 'HomeCity_Stretford ',\n",
       " 'HomeCity_Stuttgart ',\n",
       " 'HomeCity_Sunderland ',\n",
       " 'HomeCity_Swansea ',\n",
       " 'HomeCity_Tomblaine ',\n",
       " 'HomeCity_Toulouse ',\n",
       " 'HomeCity_Troyes',\n",
       " 'HomeCity_Valencia ',\n",
       " 'HomeCity_Valenciennes ',\n",
       " 'HomeCity_Valladolid ',\n",
       " 'HomeCity_Vigo ',\n",
       " 'HomeCity_Villarreal ',\n",
       " \"HomeCity_Villeneuve-d'Ascq \",\n",
       " 'HomeCity_Watford ',\n",
       " 'HomeCity_West Bromwich ',\n",
       " 'HomeCity_Wigan ',\n",
       " 'HomeCity_Wolfsburg ',\n",
       " 'HomeCity_Wolverhampton ',\n",
       " 'HomeCity_Yeovil',\n",
       " 'HomeCity_Zaragoza ']"
      ]
     },
     "execution_count": 2,
     "metadata": {},
     "output_type": "execute_result"
    }
   ],
   "source": [
    "df.columns.tolist()"
   ]
  },
  {
   "cell_type": "markdown",
   "id": "4ed9839f",
   "metadata": {},
   "source": [
    "Removing the non-numeric and descriptive columns from the dataframe. I have also elected to remove the stadium and distance data. This is because the data was only available for a small proportion of the leagues in the data set. Keeping it in would reduce the number of observations to around 21000."
   ]
  },
  {
   "cell_type": "code",
   "execution_count": 3,
   "id": "b91ba795",
   "metadata": {},
   "outputs": [],
   "source": [
    "df.drop(['id',\n",
    " 'League',\n",
    " 'Season',\n",
    " 'Date',\n",
    " 'Team',\n",
    " 'Against',\n",
    " 'HomeStadium',\n",
    " 'HomeCapacity',\n",
    " 'DistanceTraveled in Km',\n",
    " 'FullTimeGoalsFor_home',\n",
    " 'FullTimeGoalsFor_away',\n",
    " 'FullTimeGoalsAgainst_home',\n",
    " 'FullTimeGoalsAgainst_away',\n",
    " 'HalfTimeGoalsFor_home',\n",
    " 'HalfTimeGoalsFor_away',\n",
    " 'HalfTimeGoalsAgainst_home',\n",
    " 'HalfTimeGoalsAgainst_away',\n",
    " 'HalfTimeResult_home',\n",
    " 'HalfTimeResult_away',\n",
    " 'Points_home',\n",
    " 'Points_away'], axis=1, inplace=True)"
   ]
  },
  {
   "cell_type": "code",
   "execution_count": 4,
   "id": "e08b9e41",
   "metadata": {},
   "outputs": [
    {
     "data": {
      "text/plain": [
       "(44565, 195)"
      ]
     },
     "execution_count": 4,
     "metadata": {},
     "output_type": "execute_result"
    }
   ],
   "source": [
    "df.dropna(inplace=True)\n",
    "df.shape"
   ]
  },
  {
   "cell_type": "markdown",
   "id": "9ab20e11",
   "metadata": {},
   "source": [
    "# Data Prep"
   ]
  },
  {
   "cell_type": "code",
   "execution_count": 8,
   "id": "d73f467a",
   "metadata": {},
   "outputs": [],
   "source": [
    "X = df.drop(['FullTimeResult'], axis=1)\n",
    "y = df['FullTimeResult'].map({\n",
    "                                'A': 0,\n",
    "                                'D': 1,\n",
    "                                'H': 2\n",
    "                                    })\n",
    "\n",
    "# Split the data into training and testing sets\n",
    "X_train, X_test, y_train, y_test = train_test_split(X, y, test_size=0.15, random_state=42)\n"
   ]
  },
  {
   "cell_type": "code",
   "execution_count": 9,
   "id": "cfa9ab5d",
   "metadata": {},
   "outputs": [
    {
     "name": "stdout",
     "output_type": "stream",
     "text": [
      "2    0.435929\n",
      "0    0.301901\n",
      "1    0.262170\n",
      "Name: FullTimeResult, dtype: float64\n",
      "(37880, 194)\n",
      "(6685, 194)\n"
     ]
    }
   ],
   "source": [
    "# Calculate the value counts of each class in y_train\n",
    "value_counts = y_train.value_counts()\n",
    "\n",
    "# Calculate the total number of samples in y_train\n",
    "total_samples = len(y_train)\n",
    "\n",
    "# Calculate the ratio (percentage) of each class in y_train\n",
    "class_ratios = value_counts / total_samples\n",
    "\n",
    "# Display the class ratios\n",
    "print(class_ratios)\n",
    "print(X_train.shape)\n",
    "print(X_test.shape)"
   ]
  },
  {
   "cell_type": "markdown",
   "id": "a779d44a",
   "metadata": {},
   "source": [
    "# XGBoost "
   ]
  },
  {
   "cell_type": "code",
   "execution_count": 10,
   "id": "e2d5880e",
   "metadata": {},
   "outputs": [
    {
     "name": "stdout",
     "output_type": "stream",
     "text": [
      "Accuracy: 0.5048616305160808\n",
      "              precision    recall  f1-score   support\n",
      "\n",
      "           0       0.47      0.45      0.46      1968\n",
      "           1       0.41      0.03      0.06      1724\n",
      "           2       0.52      0.82      0.64      2993\n",
      "\n",
      "    accuracy                           0.50      6685\n",
      "   macro avg       0.47      0.43      0.38      6685\n",
      "weighted avg       0.48      0.50      0.43      6685\n",
      "\n"
     ]
    }
   ],
   "source": [
    "import xgboost as xgb\n",
    "from sklearn.model_selection import train_test_split, GridSearchCV\n",
    "from sklearn.metrics import accuracy_score, classification_report\n",
    "\n",
    "\n",
    "# Train-Validation Split\n",
    "X_train, X_val, y_train, y_val = train_test_split(X_train, y_train, test_size=0.2, random_state=42)\n",
    "\n",
    "# Define and Train the Classifier\n",
    "classifier = xgb.XGBClassifier(objective='multi:softmax', num_class=3, random_state=42)\n",
    "\n",
    "# Hyperparameter Tuning\n",
    "param_grid = {\n",
    "    'learning_rate': [0.1, 0.01],\n",
    "    'max_depth': [3, 5, 7, 10, 15],\n",
    "    'n_estimators': [50, 100]\n",
    "}\n",
    "\n",
    "grid_search = GridSearchCV(classifier, param_grid, cv=3)\n",
    "grid_search.fit(X_train, y_train)\n",
    "\n",
    "# Get the best classifier from the grid search\n",
    "classifier = grid_search.best_estimator_\n",
    "\n",
    "y_test_pred = classifier.predict(X_test)\n",
    "\n",
    "accuracy = accuracy_score(y_test, y_test_pred)\n",
    "print(\"Accuracy:\", accuracy)\n",
    "\n",
    "print(classification_report(y_test, y_test_pred))\n"
   ]
  },
  {
   "cell_type": "code",
   "execution_count": 11,
   "id": "2b6cec7c",
   "metadata": {},
   "outputs": [
    {
     "data": {
      "image/png": "[encoded data removed]",
      "text/plain": [
       "<Figure size 800x600 with 1 Axes>"
      ]
     },
     "metadata": {},
     "output_type": "display_data"
    }
   ],
   "source": [
    "from sklearn.metrics import confusion_matrix\n",
    "from sklearn.metrics import classification_report\n",
    "\n",
    "# Create the confusion matrix\n",
    "conf_matrix = confusion_matrix(y_test, y_test_pred)\n",
    "\n",
    "# Plot the heatmap\n",
    "plt.figure(figsize=(8, 6))\n",
    "sns.heatmap(conf_matrix, annot=True, fmt=\"d\", cmap=\"Blues\", cbar=False)\n",
    "plt.xlabel(\"Predicted Label\")\n",
    "plt.ylabel(\"True Label\")\n",
    "plt.title(\"Gradient Boost Confusion Matrix\")\n",
    "plt.show()"
   ]
  },
  {
   "cell_type": "markdown",
   "id": "09e7335d",
   "metadata": {},
   "source": [
    "# Binary XGBoost\n"
   ]
  },
  {
   "cell_type": "markdown",
   "id": "03eded33",
   "metadata": {},
   "source": [
    "I will now train the model to only predict home wins and away wins. The models I have produced all perform poorly when predicting a draw. This is because it is effectively the middle value of the three and a match can share very similar features and end in a draw instead of either a home win or away win. On top of that, draws only make up 26% of the data. As my previous model only scored an accuracy of 50% when trying to predict all three classes, there is a chance that I can improve the overall accuracy by only predicting the 'extremes'."
   ]
  },
  {
   "cell_type": "code",
   "execution_count": 12,
   "id": "e4617129",
   "metadata": {},
   "outputs": [
    {
     "name": "stdout",
     "output_type": "stream",
     "text": [
      "H    0.590826\n",
      "A    0.409174\n",
      "Name: FullTimeResult, dtype: float64\n"
     ]
    }
   ],
   "source": [
    "import pandas as pd\n",
    "from sklearn.model_selection import train_test_split\n",
    "\n",
    "X = df.drop(['FullTimeResult'], axis=1)\n",
    "y = df['FullTimeResult']\n",
    "\n",
    "# Split the data into training and testing sets\n",
    "X_train, X_test, y_train, y_test = train_test_split(X, y, test_size=0.15, random_state=42)\n",
    "\n",
    "# Combine X_train and y_train into a single DataFrame\n",
    "train_data = pd.concat([X_train, y_train], axis=1)\n",
    "\n",
    "# Drop all entries where FullTimeResult = 'D' from the training set\n",
    "train_data = train_data[train_data['FullTimeResult'] != 'D']\n",
    "\n",
    "# Split back into X_train and y_train\n",
    "X_train = train_data.drop(columns='FullTimeResult')\n",
    "y_train = train_data['FullTimeResult']\n",
    "\n",
    "# Calculate the value counts of each class in y_train\n",
    "value_counts = y_train.value_counts()\n",
    "\n",
    "# Calculate the total number of samples in y_train\n",
    "total_samples = len(y_train)\n",
    "\n",
    "# Calculate the ratio (percentage) of each class in y_train\n",
    "class_ratios = value_counts / total_samples\n",
    "\n",
    "# Display the class ratios\n",
    "print(class_ratios)"
   ]
  },
  {
   "cell_type": "code",
   "execution_count": 13,
   "id": "5cd3ce79",
   "metadata": {},
   "outputs": [
    {
     "name": "stdout",
     "output_type": "stream",
     "text": [
      "Accuracy: 0.672093023255814\n",
      "              precision    recall  f1-score   support\n",
      "\n",
      "           0       0.65      0.44      0.53      2313\n",
      "           1       0.68      0.84      0.75      3277\n",
      "\n",
      "    accuracy                           0.67      5590\n",
      "   macro avg       0.67      0.64      0.64      5590\n",
      "weighted avg       0.67      0.67      0.66      5590\n",
      "\n"
     ]
    }
   ],
   "source": [
    "y_train = y_train.map({'A': 0, 'H': 1})\n",
    "\n",
    "# Train-Validation Split\n",
    "X_train, X_val, y_train, y_val = train_test_split(X_train, y_train, test_size=0.2, random_state=42)\n",
    "\n",
    "# Define and Train the Classifier\n",
    "classifier = xgb.XGBClassifier(objective='binary:logistic', random_state=42)\n",
    "\n",
    "# Hyperparameter Tuning\n",
    "param_grid = {\n",
    "    'learning_rate': [0.1, 0.01],\n",
    "    'max_depth': [3, 5, 7, 10, 15],\n",
    "    'n_estimators': [50, 100]\n",
    "}\n",
    "\n",
    "grid_search = GridSearchCV(classifier, param_grid, cv=3)\n",
    "grid_search.fit(X_train, y_train)\n",
    "\n",
    "# Get the best classifier from the grid search\n",
    "classifier = grid_search.best_estimator_\n",
    "\n",
    "# Evaluate the Model on Validation Set\n",
    "y_pred = classifier.predict(X_val)\n",
    "\n",
    "accuracy = accuracy_score(y_val, y_pred)\n",
    "print(\"Accuracy:\", accuracy)\n",
    "\n",
    "print(classification_report(y_val, y_pred))"
   ]
  },
  {
   "cell_type": "markdown",
   "id": "cf8fa7cd",
   "metadata": {},
   "source": [
    "Unsurprising, the model is much more accurate when only predicting  home wins and away wins, however, the validation set also only contained wins. In order to see if this has produced a more robust model, it needs to be scored against the test set that contains draws as well."
   ]
  },
  {
   "cell_type": "code",
   "execution_count": 14,
   "id": "a64e9a79",
   "metadata": {},
   "outputs": [
    {
     "name": "stdout",
     "output_type": "stream",
     "text": [
      "Accuracy: 0.5036649214659686\n",
      "              precision    recall  f1-score   support\n",
      "\n",
      "           0       0.47      0.45      0.46      1968\n",
      "           1       0.52      0.83      0.64      2993\n",
      "           2       0.00      0.00      0.00      1724\n",
      "\n",
      "    accuracy                           0.50      6685\n",
      "   macro avg       0.33      0.43      0.36      6685\n",
      "weighted avg       0.37      0.50      0.42      6685\n",
      "\n"
     ]
    },
    {
     "name": "stderr",
     "output_type": "stream",
     "text": [
      "C:\\Users\\benro\\anaconda3\\envs\\ensemble\\lib\\site-packages\\sklearn\\metrics\\_classification.py:1344: UndefinedMetricWarning: Precision and F-score are ill-defined and being set to 0.0 in labels with no predicted samples. Use `zero_division` parameter to control this behavior.\n",
      "  _warn_prf(average, modifier, msg_start, len(result))\n",
      "C:\\Users\\benro\\anaconda3\\envs\\ensemble\\lib\\site-packages\\sklearn\\metrics\\_classification.py:1344: UndefinedMetricWarning: Precision and F-score are ill-defined and being set to 0.0 in labels with no predicted samples. Use `zero_division` parameter to control this behavior.\n",
      "  _warn_prf(average, modifier, msg_start, len(result))\n",
      "C:\\Users\\benro\\anaconda3\\envs\\ensemble\\lib\\site-packages\\sklearn\\metrics\\_classification.py:1344: UndefinedMetricWarning: Precision and F-score are ill-defined and being set to 0.0 in labels with no predicted samples. Use `zero_division` parameter to control this behavior.\n",
      "  _warn_prf(average, modifier, msg_start, len(result))\n"
     ]
    }
   ],
   "source": [
    "y_test = y_test.map({'A': 0, 'H': 1, 'D':2})\n",
    "y_test_pred = classifier.predict(X_test)\n",
    "\n",
    "accuracy = accuracy_score(y_test, y_test_pred)\n",
    "print(\"Accuracy:\", accuracy)\n",
    "\n",
    "print(classification_report(y_test, y_test_pred))"
   ]
  },
  {
   "cell_type": "markdown",
   "id": "aa357939",
   "metadata": {},
   "source": [
    "Only predicting for A or H has resulted in a very small decrease in overall accuracy. It did cause a minor improvement in the precision for predicting 0 and 1, A and H respectively, but it is unlikely to be make the model \"better\" than one that can predict all three classes."
   ]
  }
 ],
 "metadata": {
  "kernelspec": {
   "display_name": "Python 3 (ipykernel)",
   "language": "python",
   "name": "python3"
  },
  "language_info": {
   "codemirror_mode": {
    "name": "ipython",
    "version": 3
   },
   "file_extension": ".py",
   "mimetype": "text/x-python",
   "name": "python",
   "nbconvert_exporter": "python",
   "pygments_lexer": "ipython3",
   "version": "3.8.17"
  },
  "toc": {
   "base_numbering": "0",
   "nav_menu": {},
   "number_sections": true,
   "sideBar": true,
   "skip_h1_title": false,
   "title_cell": "Table of Contents",
   "title_sidebar": "Contents",
   "toc_cell": true,
   "toc_position": {
    "height": "calc(100% - 180px)",
    "left": "10px",
    "top": "150px",
    "width": "307.2px"
   },
   "toc_section_display": true,
   "toc_window_display": true
  }
 },
 "nbformat": 4,
 "nbformat_minor": 5
}
