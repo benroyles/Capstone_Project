{
 "cells": [
  {
   "cell_type": "markdown",
   "id": "1be7be7c",
   "metadata": {},
   "source": [
    "# Decision Trees\n",
    "by Ben Royles"
   ]
  },
  {
   "cell_type": "markdown",
   "id": "1a2e5acb",
   "metadata": {
    "toc": true
   },
   "source": [
    "<h1>Table of Contents<span class=\"tocSkip\"></span></h1>\n",
    "<div class=\"toc\"><ul class=\"toc-item\"><li><span><a href=\"#Decision-Trees\" data-toc-modified-id=\"Decision-Trees-0\"><span class=\"toc-item-num\">0&nbsp;&nbsp;</span>Decision Trees</a></span></li><li><span><a href=\"#Decision-Tree\" data-toc-modified-id=\"Decision-Tree-1\"><span class=\"toc-item-num\">1&nbsp;&nbsp;</span>Decision Tree</a></span></li><li><span><a href=\"#Random-Forest\" data-toc-modified-id=\"Random-Forest-2\"><span class=\"toc-item-num\">2&nbsp;&nbsp;</span>Random Forest</a></span><ul class=\"toc-item\"><li><span><a href=\"#Undersampling-the-majority-class\" data-toc-modified-id=\"Undersampling-the-majority-class-2.1\"><span class=\"toc-item-num\">2.1&nbsp;&nbsp;</span>Undersampling the majority class</a></span></li></ul></li><li><span><a href=\"#Gradient-Boost\" data-toc-modified-id=\"Gradient-Boost-3\"><span class=\"toc-item-num\">3&nbsp;&nbsp;</span>Gradient Boost</a></span></li><li><span><a href=\"#Subset-of-columns\" data-toc-modified-id=\"Subset-of-columns-4\"><span class=\"toc-item-num\">4&nbsp;&nbsp;</span>Subset of columns</a></span><ul class=\"toc-item\"><li><span><a href=\"#Random-forest\" data-toc-modified-id=\"Random-forest-4.1\"><span class=\"toc-item-num\">4.1&nbsp;&nbsp;</span>Random forest</a></span></li><li><span><a href=\"#Grad-boost\" data-toc-modified-id=\"Grad-boost-4.2\"><span class=\"toc-item-num\">4.2&nbsp;&nbsp;</span>Grad boost</a></span></li></ul></li></ul></div>"
   ]
  },
  {
   "cell_type": "code",
   "execution_count": 1,
   "id": "e1b39ab6",
   "metadata": {},
   "outputs": [
    {
     "data": {
      "text/plain": [
       "(61845, 216)"
      ]
     },
     "execution_count": 1,
     "metadata": {},
     "output_type": "execute_result"
    }
   ],
   "source": [
    "import pandas as pd\n",
    "import numpy as np\n",
    "import matplotlib.pyplot as plt\n",
    "import seaborn as sns \n",
    "from sklearn.model_selection import train_test_split\n",
    "from sklearn.preprocessing import StandardScaler\n",
    "\n",
    "sns.set()\n",
    "\n",
    "df = pd.read_csv('complete.csv')\n",
    "df.shape"
   ]
  },
  {
   "cell_type": "code",
   "execution_count": 2,
   "id": "db152260",
   "metadata": {},
   "outputs": [
    {
     "data": {
      "text/plain": [
       "['id',\n",
       " 'League',\n",
       " 'Season',\n",
       " 'Date',\n",
       " 'Team',\n",
       " 'Against',\n",
       " 'HomeStadium',\n",
       " 'HomeCapacity',\n",
       " 'Match Week',\n",
       " 'FullTimeResult',\n",
       " 'DistanceTraveled in Km',\n",
       " 'Weekday',\n",
       " 'Month',\n",
       " 'FullTimeGoalsFor_home',\n",
       " 'FullTimeGoalsFor_away',\n",
       " 'FullTimeGoalsAgainst_home',\n",
       " 'FullTimeGoalsAgainst_away',\n",
       " 'HalfTimeGoalsFor_home',\n",
       " 'HalfTimeGoalsFor_away',\n",
       " 'HalfTimeGoalsAgainst_home',\n",
       " 'HalfTimeGoalsAgainst_away',\n",
       " 'HalfTimeResult_home',\n",
       " 'HalfTimeResult_away',\n",
       " 'Points_home',\n",
       " 'Points_away',\n",
       " 'Points before match_home',\n",
       " 'Points before match_away',\n",
       " 'League Position_home',\n",
       " 'League Position_away',\n",
       " 'Form_home',\n",
       " 'Form_away',\n",
       " 'AverageFullTimeGoalsFor_home',\n",
       " 'AverageFullTimeGoalsFor_away',\n",
       " 'AverageFullTimeGoalsAgainst_home',\n",
       " 'AverageFullTimeGoalsAgainst_away',\n",
       " 'AverageHalfTimeGoalsFor_home',\n",
       " 'AverageHalfTimeGoalsFor_away',\n",
       " 'AverageHalfTimeGoalsAgainst_home',\n",
       " 'AverageHalfTimeGoalsAgainst_away',\n",
       " 'AverageShots_home',\n",
       " 'AverageShots_away',\n",
       " 'AverageShotsAgainst_home',\n",
       " 'AverageShotsAgainst_away',\n",
       " 'AverageShotsOnTarget_home',\n",
       " 'AverageShotsOnTarget_away',\n",
       " 'AverageShotsOnTargetAgainst_home',\n",
       " 'AverageShotsOnTargetAgainst_away',\n",
       " 'AverageFoulsCommited_home',\n",
       " 'AverageFoulsCommited_away',\n",
       " 'AverageFoulsAgainst_home',\n",
       " 'AverageFoulsAgainst_away',\n",
       " 'AverageCorners_home',\n",
       " 'AverageCorners_away',\n",
       " 'AverageCornersAgainst_home',\n",
       " 'AverageCornersAgainst_away',\n",
       " 'AverageYellowCards_home',\n",
       " 'AverageYellowCards_away',\n",
       " 'AverageYellowCardsAgainst_home',\n",
       " 'AverageYellowCardsAgainst_away',\n",
       " 'AverageRedCards_home',\n",
       " 'AverageRedCards_away',\n",
       " 'AverageRedCardsAgainst_home',\n",
       " 'AverageRedCardsAgainst_away',\n",
       " 'Country_Belgium',\n",
       " 'Country_England',\n",
       " 'Country_France',\n",
       " 'Country_Germany',\n",
       " 'Country_Greece',\n",
       " 'Country_Italy',\n",
       " 'Country_Netherlands',\n",
       " 'Country_Portugal',\n",
       " 'Country_Scotland',\n",
       " 'Country_Spain',\n",
       " 'Country_Turkey',\n",
       " 'Div_B1',\n",
       " 'Div_D1',\n",
       " 'Div_D2',\n",
       " 'Div_E0',\n",
       " 'Div_E1',\n",
       " 'Div_F1',\n",
       " 'Div_F2',\n",
       " 'Div_G1',\n",
       " 'Div_I1',\n",
       " 'Div_I2',\n",
       " 'Div_N1',\n",
       " 'Div_P1',\n",
       " 'Div_SC0',\n",
       " 'Div_SC1',\n",
       " 'Div_SP1',\n",
       " 'Div_SP2',\n",
       " 'Div_T1',\n",
       " 'HomeCity_A Coruña ',\n",
       " 'HomeCity_Aberdeen',\n",
       " 'HomeCity_Ajaccio ',\n",
       " 'HomeCity_Almería ',\n",
       " 'HomeCity_Annecy ',\n",
       " 'HomeCity_Augsburg ',\n",
       " 'HomeCity_Auxerre ',\n",
       " 'HomeCity_Barcelona ',\n",
       " 'HomeCity_Barnsley ',\n",
       " 'HomeCity_Bastia ',\n",
       " 'HomeCity_Berlin ',\n",
       " 'HomeCity_Bilbao ',\n",
       " 'HomeCity_Birmingham ',\n",
       " 'HomeCity_Blackburn ',\n",
       " 'HomeCity_Blackpool ',\n",
       " 'HomeCity_Bolton ',\n",
       " 'HomeCity_Bordeaux ',\n",
       " 'HomeCity_Bournemouth',\n",
       " 'HomeCity_Braunschweig ',\n",
       " 'HomeCity_Bremen ',\n",
       " 'HomeCity_Brest',\n",
       " 'HomeCity_Brighton ',\n",
       " 'HomeCity_Bristol ',\n",
       " 'HomeCity_Burnley ',\n",
       " 'HomeCity_Caen ',\n",
       " 'HomeCity_Cardiff ',\n",
       " 'HomeCity_Cologne ',\n",
       " 'HomeCity_Cornellà de Llobregat ',\n",
       " 'HomeCity_Coventry ',\n",
       " 'HomeCity_Derby ',\n",
       " 'HomeCity_Dijon',\n",
       " 'HomeCity_Dingvall',\n",
       " 'HomeCity_Doncaster ',\n",
       " 'HomeCity_Dortmund ',\n",
       " 'HomeCity_Dundee',\n",
       " 'HomeCity_Dunfermline',\n",
       " 'HomeCity_Düsseldorf ',\n",
       " 'HomeCity_Edinburgh',\n",
       " 'HomeCity_Elche ',\n",
       " 'HomeCity_Falkirk',\n",
       " 'HomeCity_Frankfurt ',\n",
       " 'HomeCity_Freiburg ',\n",
       " 'HomeCity_Fürth ',\n",
       " 'HomeCity_Gelsenkirchen ',\n",
       " 'HomeCity_Getafe ',\n",
       " 'HomeCity_Gijón',\n",
       " 'HomeCity_Glasgow',\n",
       " 'HomeCity_Granada ',\n",
       " 'HomeCity_Greenwich',\n",
       " 'HomeCity_Guingamp ',\n",
       " 'HomeCity_Hamburg ',\n",
       " 'HomeCity_Hamilton',\n",
       " 'HomeCity_Hanover ',\n",
       " 'HomeCity_Huddersfield',\n",
       " 'HomeCity_Ipswich ',\n",
       " 'HomeCity_Iverness',\n",
       " 'HomeCity_Kaiserslautern ',\n",
       " 'HomeCity_Kilmarnock',\n",
       " 'HomeCity_Kingston upon Hull ',\n",
       " 'HomeCity_Leeds ',\n",
       " 'HomeCity_Leicester ',\n",
       " 'HomeCity_Leverkusen ',\n",
       " 'HomeCity_Liverpool ',\n",
       " 'HomeCity_Livingston',\n",
       " 'HomeCity_London ',\n",
       " 'HomeCity_Lorient ',\n",
       " 'HomeCity_Luton',\n",
       " 'HomeCity_Lyon ',\n",
       " 'HomeCity_Madrid ',\n",
       " 'HomeCity_Mainz ',\n",
       " 'HomeCity_Manchester ',\n",
       " 'HomeCity_Marseille ',\n",
       " 'HomeCity_Middlesbrough ',\n",
       " 'HomeCity_Monaco ',\n",
       " 'HomeCity_Montbéliard ',\n",
       " 'HomeCity_Montpellier ',\n",
       " 'HomeCity_Motherwell',\n",
       " 'HomeCity_Munich ',\n",
       " 'HomeCity_Málaga ',\n",
       " 'HomeCity_Mönchengladbach ',\n",
       " 'HomeCity_Nantes ',\n",
       " 'HomeCity_Newcastle upon Tyne ',\n",
       " 'HomeCity_Nice ',\n",
       " 'HomeCity_Norwich ',\n",
       " 'HomeCity_Nottingham ',\n",
       " 'HomeCity_Nuremberg ',\n",
       " 'HomeCity_Paisley',\n",
       " 'HomeCity_Palma ',\n",
       " 'HomeCity_Pamplona ',\n",
       " 'HomeCity_Paris ',\n",
       " 'HomeCity_Perth',\n",
       " 'HomeCity_Peterborough ',\n",
       " 'HomeCity_Preston',\n",
       " 'HomeCity_Reading ',\n",
       " 'HomeCity_Reims ',\n",
       " 'HomeCity_Rennes ',\n",
       " 'HomeCity_Rotherham',\n",
       " 'HomeCity_Saint-Étienne ',\n",
       " 'HomeCity_San Sebastián ',\n",
       " 'HomeCity_Santander',\n",
       " 'HomeCity_Seville ',\n",
       " 'HomeCity_Sheffield',\n",
       " 'HomeCity_Sinsheim ',\n",
       " 'HomeCity_Southampton ',\n",
       " 'HomeCity_Stoke-on-Trent ',\n",
       " 'HomeCity_Stretford ',\n",
       " 'HomeCity_Stuttgart ',\n",
       " 'HomeCity_Sunderland ',\n",
       " 'HomeCity_Swansea ',\n",
       " 'HomeCity_Tomblaine ',\n",
       " 'HomeCity_Toulouse ',\n",
       " 'HomeCity_Troyes',\n",
       " 'HomeCity_Valencia ',\n",
       " 'HomeCity_Valenciennes ',\n",
       " 'HomeCity_Valladolid ',\n",
       " 'HomeCity_Vigo ',\n",
       " 'HomeCity_Villarreal ',\n",
       " \"HomeCity_Villeneuve-d'Ascq \",\n",
       " 'HomeCity_Watford ',\n",
       " 'HomeCity_West Bromwich ',\n",
       " 'HomeCity_Wigan ',\n",
       " 'HomeCity_Wolfsburg ',\n",
       " 'HomeCity_Wolverhampton ',\n",
       " 'HomeCity_Yeovil',\n",
       " 'HomeCity_Zaragoza ']"
      ]
     },
     "execution_count": 2,
     "metadata": {},
     "output_type": "execute_result"
    }
   ],
   "source": [
    "# Getting a list of all the columns to be able to remove the non-numeric and predictive ones\n",
    "df.columns.tolist()"
   ]
  },
  {
   "cell_type": "code",
   "execution_count": 3,
   "id": "0623c9b6",
   "metadata": {},
   "outputs": [],
   "source": [
    "df.drop(['id',\n",
    " 'League',\n",
    " 'Season',\n",
    " 'Date',\n",
    " 'Team',\n",
    " 'Against',\n",
    " 'HomeStadium',\n",
    " 'HomeCapacity',\n",
    " 'DistanceTraveled in Km',\n",
    " 'FullTimeGoalsFor_home',\n",
    " 'FullTimeGoalsFor_away',\n",
    " 'FullTimeGoalsAgainst_home',\n",
    " 'FullTimeGoalsAgainst_away',\n",
    " 'HalfTimeGoalsFor_home',\n",
    " 'HalfTimeGoalsFor_away',\n",
    " 'HalfTimeGoalsAgainst_home',\n",
    " 'HalfTimeGoalsAgainst_away',\n",
    " 'HalfTimeResult_home',\n",
    " 'HalfTimeResult_away',\n",
    " 'Points_home',\n",
    " 'Points_away'], axis=1, inplace=True)"
   ]
  },
  {
   "cell_type": "code",
   "execution_count": 4,
   "id": "e08b9e41",
   "metadata": {},
   "outputs": [
    {
     "data": {
      "text/plain": [
       "(44565, 195)"
      ]
     },
     "execution_count": 4,
     "metadata": {},
     "output_type": "execute_result"
    }
   ],
   "source": [
    "df.dropna(inplace=True)\n",
    "df.shape"
   ]
  },
  {
   "cell_type": "code",
   "execution_count": 5,
   "id": "8f7bec88",
   "metadata": {},
   "outputs": [],
   "source": [
    "X = df.drop(['FullTimeResult'], axis=1)\n",
    "y = df['FullTimeResult']"
   ]
  },
  {
   "cell_type": "code",
   "execution_count": 6,
   "id": "f711ea48",
   "metadata": {},
   "outputs": [],
   "source": [
    "# Split the data into training and testing sets\n",
    "X_train, X_test, y_train, y_test = train_test_split(X, y, test_size=0.2, random_state=42)"
   ]
  },
  {
   "cell_type": "markdown",
   "id": "5662e906",
   "metadata": {},
   "source": [
    "# Decision Tree"
   ]
  },
  {
   "cell_type": "code",
   "execution_count": 7,
   "id": "5664f801",
   "metadata": {},
   "outputs": [
    {
     "name": "stdout",
     "output_type": "stream",
     "text": [
      "Best Hyperparameters for Decision Tree: {'criterion': 'entropy', 'max_depth': 5, 'max_features': None, 'min_samples_leaf': 1, 'min_samples_split': 2}\n",
      "Accuracy of the Best Decision Tree Model: 0.48861213957141253\n"
     ]
    }
   ],
   "source": [
    "from sklearn.tree import DecisionTreeClassifier\n",
    "from sklearn.model_selection import GridSearchCV\n",
    "\n",
    "# Define the hyperparameter grid for Decision Tree\n",
    "param_grid_dt = {\n",
    "    'criterion': ['gini', 'entropy'],\n",
    "    'max_depth': [None, 5, 10, 15, 20],\n",
    "    'min_samples_split': [2, 5, 10],\n",
    "    'min_samples_leaf': [1, 2, 4],\n",
    "    'max_features': ['sqrt', 'log2', None]\n",
    "}\n",
    "\n",
    "# Create the Decision Tree classifier\n",
    "decision_tree = DecisionTreeClassifier(random_state=42)\n",
    "\n",
    "# Create the GridSearchCV object for Decision Tree\n",
    "grid_search_dt = GridSearchCV(decision_tree, param_grid_dt, cv=5, scoring='accuracy')\n",
    "\n",
    "# Fit the GridSearchCV object on the training data\n",
    "grid_search_dt.fit(X_train, y_train)\n",
    "\n",
    "# Get the best hyperparameters and the best model\n",
    "best_params_dt = grid_search_dt.best_params_\n",
    "best_model_dt = grid_search_dt.best_estimator_\n",
    "\n",
    "# Evaluate the best model on the test data\n",
    "accuracy_dt = best_model_dt.score(X_test, y_test)\n",
    "\n",
    "# Print the best hyperparameters and accuracy\n",
    "print(\"Best Hyperparameters for Decision Tree:\", best_params_dt)\n",
    "print(\"Accuracy of the Best Decision Tree Model:\", accuracy_dt)\n"
   ]
  },
  {
   "cell_type": "markdown",
   "id": "6bed32db",
   "metadata": {},
   "source": [
    "Using the grid search I have been able to find the optimum combination of parameters for a decision tree model. This has scored an accuracy of 48.9% on the testing set. I will visualize the strengths and weaknesses of the model below, using a confusion matrix and heat map."
   ]
  },
  {
   "cell_type": "code",
   "execution_count": 8,
   "id": "63e877bc",
   "metadata": {},
   "outputs": [
    {
     "name": "stdout",
     "output_type": "stream",
     "text": [
      "Classification Report:\n"
     ]
    },
    {
     "name": "stderr",
     "output_type": "stream",
     "text": [
      "C:\\Users\\benro\\anaconda3\\envs\\ensemble\\lib\\site-packages\\sklearn\\metrics\\_classification.py:1344: UndefinedMetricWarning: Precision and F-score are ill-defined and being set to 0.0 in labels with no predicted samples. Use `zero_division` parameter to control this behavior.\n",
      "  _warn_prf(average, modifier, msg_start, len(result))\n",
      "C:\\Users\\benro\\anaconda3\\envs\\ensemble\\lib\\site-packages\\sklearn\\metrics\\_classification.py:1344: UndefinedMetricWarning: Precision and F-score are ill-defined and being set to 0.0 in labels with no predicted samples. Use `zero_division` parameter to control this behavior.\n",
      "  _warn_prf(average, modifier, msg_start, len(result))\n",
      "C:\\Users\\benro\\anaconda3\\envs\\ensemble\\lib\\site-packages\\sklearn\\metrics\\_classification.py:1344: UndefinedMetricWarning: Precision and F-score are ill-defined and being set to 0.0 in labels with no predicted samples. Use `zero_division` parameter to control this behavior.\n",
      "  _warn_prf(average, modifier, msg_start, len(result))\n"
     ]
    },
    {
     "name": "stdout",
     "output_type": "stream",
     "text": [
      "              precision    recall  f1-score   support\n",
      "\n",
      "           A       0.46      0.38      0.41      2601\n",
      "           D       0.00      0.00      0.00      2350\n",
      "           H       0.50      0.85      0.63      3962\n",
      "\n",
      "    accuracy                           0.49      8913\n",
      "   macro avg       0.32      0.41      0.35      8913\n",
      "weighted avg       0.36      0.49      0.40      8913\n",
      "\n",
      "0.48861213957141253\n"
     ]
    },
    {
     "data": {
      "image/png": "[encoded data removed]",
      "text/plain": [
       "<Figure size 800x600 with 1 Axes>"
      ]
     },
     "metadata": {},
     "output_type": "display_data"
    }
   ],
   "source": [
    "from sklearn.metrics import confusion_matrix\n",
    "from sklearn.metrics import classification_report\n",
    "\n",
    "\n",
    "y_test_pred = best_model_dt.predict(X_test)\n",
    "\n",
    "# Display the classification report\n",
    "print(\"Classification Report:\")\n",
    "print(classification_report(y_test, y_test_pred))\n",
    "print(best_model_dt.score(X_test, y_test))\n",
    "\n",
    "# Create the confusion matrix\n",
    "conf_matrix = confusion_matrix(y_test, y_test_pred)\n",
    "\n",
    "# Plot the heatmap\n",
    "plt.figure(figsize=(8, 6))\n",
    "sns.heatmap(conf_matrix, annot=True, fmt=\"d\", cmap=\"Blues\", cbar=False)\n",
    "plt.xlabel(\"Predicted Label\")\n",
    "plt.ylabel(\"True Label\")\n",
    "plt.title(\"Decision Tree Confusion Matrix\")\n",
    "plt.show()"
   ]
  },
  {
   "cell_type": "markdown",
   "id": "d95657cb",
   "metadata": {},
   "source": [
    "We can see that the model is heavily biased towards class 2, home wins. As a result, 50% of the predicted home wins are actually a mixture of away wins and draws. The model performs worse with away wins, class 0, and doesn't predict any draws, class 1."
   ]
  },
  {
   "cell_type": "markdown",
   "id": "8b0bc9b1",
   "metadata": {},
   "source": [
    "# Random Forest\n"
   ]
  },
  {
   "cell_type": "code",
   "execution_count": 9,
   "id": "fa5a16a0",
   "metadata": {},
   "outputs": [],
   "source": [
    "X = df.drop(['FullTimeResult'], axis=1)\n",
    "y = df['FullTimeResult']\n",
    "\n",
    "# Split the data into training and testing sets\n",
    "X_train, X_test, y_train, y_test = train_test_split(X, y, test_size=0.2, random_state=42)"
   ]
  },
  {
   "cell_type": "code",
   "execution_count": 10,
   "id": "0b72de18",
   "metadata": {},
   "outputs": [
    {
     "name": "stdout",
     "output_type": "stream",
     "text": [
      "Best Hyperparameters for Random Tree: {'max_depth': 10, 'min_samples_leaf': 2, 'min_samples_split': 10, 'n_estimators': 100}\n",
      "Accuracy of the Best Decision Tree Model: 0.5019634242118254\n"
     ]
    }
   ],
   "source": [
    "from sklearn.model_selection import GridSearchCV\n",
    "from sklearn.ensemble import RandomForestClassifier\n",
    "\n",
    "# Define the hyperparameter grid for Random Forest\n",
    "param_grid_rf = {\n",
    "    'n_estimators': [50, 100],\n",
    "    'max_depth': [None, 5, 10],\n",
    "    'min_samples_split': [2, 5, 10],\n",
    "    'min_samples_leaf': [1, 2, 4]\n",
    "}\n",
    "\n",
    "# Create the Random Forest classifier\n",
    "random_forest = RandomForestClassifier(random_state=42)\n",
    "\n",
    "# Create the GridSearchCV object for Random Forest\n",
    "grid_search_rf = GridSearchCV(random_forest, param_grid_rf, cv=5)\n",
    "\n",
    "# Fit the GridSearchCV object on the scaled training data\n",
    "grid_search_rf.fit(X_train, y_train)\n",
    "\n",
    "# Get the best hyperparameters and the best model for Random Forest\n",
    "best_params_rf = grid_search_rf.best_params_\n",
    "best_model_rf = grid_search_rf.best_estimator_\n",
    "\n",
    "# Evaluate the best Random Forest model on the test data\n",
    "accuracy_rf = best_model_rf.score(X_test, y_test)\n",
    "\n",
    "# Print the best hyperparameters and accuracy\n",
    "print(\"Best Hyperparameters for Random Tree:\", best_params_rf)\n",
    "print(\"Accuracy of the Best Decision Tree Model:\", accuracy_rf)"
   ]
  },
  {
   "cell_type": "markdown",
   "id": "86a48a3b",
   "metadata": {},
   "source": [
    "Using a grid search to find the optimum Hyper parameters for a random forest classifier produced a model that scored 50.2% accuracy on the testing set."
   ]
  },
  {
   "cell_type": "code",
   "execution_count": 11,
   "id": "b3ab0d39",
   "metadata": {},
   "outputs": [
    {
     "name": "stdout",
     "output_type": "stream",
     "text": [
      "Classification Report:\n",
      "              precision    recall  f1-score   support\n",
      "\n",
      "           A       0.49      0.40      0.44      2601\n",
      "           D       0.29      0.00      0.00      2350\n",
      "           H       0.51      0.86      0.64      3962\n",
      "\n",
      "    accuracy                           0.50      8913\n",
      "   macro avg       0.43      0.42      0.36      8913\n",
      "weighted avg       0.44      0.50      0.41      8913\n",
      "\n",
      "0.5019634242118254\n"
     ]
    },
    {
     "data": {
      "image/png": "[encoded data removed]",
      "text/plain": [
       "<Figure size 800x600 with 1 Axes>"
      ]
     },
     "metadata": {},
     "output_type": "display_data"
    }
   ],
   "source": [
    "from sklearn.metrics import confusion_matrix\n",
    "from sklearn.metrics import classification_report\n",
    "\n",
    "y_test_pred = best_model_rf.predict(X_test)\n",
    "\n",
    "# Display the classification report\n",
    "print(\"Classification Report:\")\n",
    "print(classification_report(y_test, y_test_pred))\n",
    "print(best_model_rf.score(X_test, y_test))\n",
    "\n",
    "# Create the confusion matrix\n",
    "conf_matrix = confusion_matrix(y_test, y_test_pred)\n",
    "\n",
    "# Plot the heatmap\n",
    "plt.figure(figsize=(8, 6))\n",
    "sns.heatmap(conf_matrix, annot=True, fmt=\"d\", cmap=\"Blues\", cbar=False)\n",
    "plt.xlabel(\"Predicted Label\")\n",
    "plt.ylabel(\"True Label\")\n",
    "plt.title(\"Random Forest Confusion Matrix\")\n",
    "plt.show()"
   ]
  },
  {
   "cell_type": "markdown",
   "id": "06267be0",
   "metadata": {},
   "source": [
    "Looking at the confusion matrix and classification report we can see that it has a similar level of precision for both home and away wins, 51% and 49% respectively. The recall for class 2, home wins, is significantly higher which means that a relatively small proportion of home wins are incorrectly classified. This is due to the model favoring home wins which could be caused by the uneven distribution of the classes."
   ]
  },
  {
   "cell_type": "markdown",
   "id": "c7a2139b",
   "metadata": {},
   "source": [
    "## Undersampling the majority class"
   ]
  },
  {
   "cell_type": "code",
   "execution_count": 12,
   "id": "282f3f5b",
   "metadata": {},
   "outputs": [
    {
     "data": {
      "text/plain": [
       "H    15544\n",
       "A    10803\n",
       "D     9305\n",
       "Name: FullTimeResult, dtype: int64"
      ]
     },
     "execution_count": 12,
     "metadata": {},
     "output_type": "execute_result"
    }
   ],
   "source": [
    "X = df.drop(['FullTimeResult'], axis=1)\n",
    "y = df['FullTimeResult']\n",
    "\n",
    "# Split the data into training and testing sets\n",
    "X_train, X_test, y_train, y_test = train_test_split(X, y, test_size=0.2, random_state=42)\n",
    "\n",
    "y_train.value_counts()"
   ]
  },
  {
   "cell_type": "code",
   "execution_count": 13,
   "id": "2d80162b",
   "metadata": {},
   "outputs": [
    {
     "data": {
      "text/plain": [
       "A    9305\n",
       "D    9305\n",
       "H    9305\n",
       "Name: FullTimeResult, dtype: int64"
      ]
     },
     "execution_count": 13,
     "metadata": {},
     "output_type": "execute_result"
    }
   ],
   "source": [
    "from imblearn.under_sampling import RandomUnderSampler\n",
    "\n",
    "under_sampler = RandomUnderSampler(random_state=42)\n",
    "\n",
    "X_train, y_train = under_sampler.fit_resample(X_train, y_train)\n",
    "\n",
    "y_train.value_counts()\n"
   ]
  },
  {
   "cell_type": "code",
   "execution_count": 14,
   "id": "57984e96",
   "metadata": {},
   "outputs": [
    {
     "name": "stdout",
     "output_type": "stream",
     "text": [
      "Best Hyperparameters for Random Tree: {'max_depth': 10, 'min_samples_leaf': 4, 'min_samples_split': 10, 'n_estimators': 100}\n",
      "Accuracy of the Best Decision Tree Model: 0.46718276674520365\n"
     ]
    }
   ],
   "source": [
    "from sklearn.model_selection import GridSearchCV\n",
    "from sklearn.ensemble import RandomForestClassifier\n",
    "\n",
    "# Define the hyperparameter grid for Random Forest\n",
    "param_grid_rf = {\n",
    "    'n_estimators': [50, 100],\n",
    "    'max_depth': [None, 5, 10],\n",
    "    'min_samples_split': [2, 5, 10],\n",
    "    'min_samples_leaf': [1, 2, 4]\n",
    "}\n",
    "\n",
    "# Create the Random Forest classifier\n",
    "random_forest = RandomForestClassifier(random_state=42)\n",
    "\n",
    "# Create the GridSearchCV object for Random Forest\n",
    "grid_search_rf = GridSearchCV(random_forest, param_grid_rf, cv=5)\n",
    "\n",
    "# Fit the GridSearchCV object on the scaled training data\n",
    "grid_search_rf.fit(X_train, y_train)\n",
    "\n",
    "# Get the best hyperparameters and the best model for Random Forest\n",
    "best_params_rf = grid_search_rf.best_params_\n",
    "best_model_rf = grid_search_rf.best_estimator_\n",
    "\n",
    "# Evaluate the best Random Forest model on the test data\n",
    "accuracy_rf = best_model_rf.score(X_test, y_test)\n",
    "\n",
    "# Print the best hyperparameters and accuracy\n",
    "print(\"Best Hyperparameters for Random Tree:\", best_params_rf)\n",
    "print(\"Accuracy of the Best Decision Tree Model:\", accuracy_rf)"
   ]
  },
  {
   "cell_type": "markdown",
   "id": "b477e047",
   "metadata": {},
   "source": [
    "Balancing the number of samples from each class has reduced the overall accuracy to 46.7, which is quite a significant decrease. The confusion matrix and classification report will help to clarify why the model has got worse."
   ]
  },
  {
   "cell_type": "code",
   "execution_count": 15,
   "id": "859a329e",
   "metadata": {},
   "outputs": [
    {
     "name": "stdout",
     "output_type": "stream",
     "text": [
      "Classification Report:\n",
      "              precision    recall  f1-score   support\n",
      "\n",
      "           A       0.46      0.49      0.48      2601\n",
      "           D       0.31      0.38      0.34      2350\n",
      "           H       0.61      0.50      0.55      3962\n",
      "\n",
      "    accuracy                           0.47      8913\n",
      "   macro avg       0.46      0.46      0.46      8913\n",
      "weighted avg       0.49      0.47      0.47      8913\n",
      "\n",
      "0.46718276674520365\n"
     ]
    },
    {
     "data": {
      "image/png": "[encoded data removed]",
      "text/plain": [
       "<Figure size 800x600 with 1 Axes>"
      ]
     },
     "metadata": {},
     "output_type": "display_data"
    }
   ],
   "source": [
    "from sklearn.metrics import confusion_matrix\n",
    "from sklearn.metrics import classification_report\n",
    "\n",
    "y_test_pred = best_model_rf.predict(X_test)\n",
    "\n",
    "# Display the classification report\n",
    "print(\"Classification Report:\")\n",
    "print(classification_report(y_test, y_test_pred))\n",
    "print(best_model_rf.score(X_test, y_test))\n",
    "\n",
    "# Create the confusion matrix\n",
    "conf_matrix = confusion_matrix(y_test, y_test_pred)\n",
    "\n",
    "# Plot the heatmap\n",
    "plt.figure(figsize=(8, 6))\n",
    "sns.heatmap(conf_matrix, annot=True, fmt=\"d\", cmap=\"Blues\", cbar=False)\n",
    "plt.xlabel(\"Predicted Label\")\n",
    "plt.ylabel(\"True Label\")\n",
    "plt.title(\"Random Forest Confusion Matrix with Undersampling\")\n",
    "plt.show()"
   ]
  },
  {
   "cell_type": "markdown",
   "id": "1b4d0c91",
   "metadata": {},
   "source": [
    "Compared to the original random forest model, the distribution of predictions is much more evenly spread, resulting in a higher precision. The recall is lower, but more evenly distributed among the three classes, instead of being heavily biased towards class 2, home wins."
   ]
  },
  {
   "cell_type": "markdown",
   "id": "cf376908",
   "metadata": {},
   "source": [
    "# Gradient Boost"
   ]
  },
  {
   "cell_type": "code",
   "execution_count": 16,
   "id": "d19210b4",
   "metadata": {},
   "outputs": [],
   "source": [
    "X = df.drop(['FullTimeResult'], axis=1)\n",
    "y = df['FullTimeResult']\n",
    "\n",
    "# Split the data into training and testing sets\n",
    "X_train, X_test, y_train, y_test = train_test_split(X, y, test_size=0.2, random_state=42)"
   ]
  },
  {
   "cell_type": "code",
   "execution_count": 17,
   "id": "2d0ff060",
   "metadata": {},
   "outputs": [
    {
     "name": "stdout",
     "output_type": "stream",
     "text": [
      "Best Hyperparameters for Random Tree: {'learning_rate': 0.1, 'max_depth': 3, 'n_estimators': 100}\n",
      "Accuracy of the Best Decision Tree Model: 0.5030853809042971\n"
     ]
    }
   ],
   "source": [
    "from sklearn.model_selection import GridSearchCV\n",
    "from sklearn.ensemble import GradientBoostingClassifier\n",
    "\n",
    "# Define the hyperparameter grid for Gradient Boosting\n",
    "param_grid_gb = {\n",
    "    'n_estimators': [50, 100],\n",
    "    'learning_rate': [0.01, 0.1, 0.2],\n",
    "    'max_depth': [3, 5, 7]\n",
    "}\n",
    "\n",
    "# Create the Gradient Boosting classifier\n",
    "gradient_boosting = GradientBoostingClassifier(random_state=42)\n",
    "\n",
    "# Create the GridSearchCV object for Gradient Boosting\n",
    "grid_search_gb = GridSearchCV(gradient_boosting, param_grid_gb, cv=5)\n",
    "\n",
    "# Fit the GridSearchCV object on the scaled training data\n",
    "grid_search_gb.fit(X_train, y_train)\n",
    "\n",
    "# Get the best hyperparameters and the best model for Gradient Boosting\n",
    "best_params_gb = grid_search_gb.best_params_\n",
    "best_model_gb = grid_search_gb.best_estimator_\n",
    "\n",
    "# Evaluate the best Gradient Boosting model on the test data\n",
    "accuracy_gb = best_model_gb.score(X_test, y_test)\n",
    "\n",
    "# Print the best hyperparameters and accuracy\n",
    "print(\"Best Hyperparameters for Random Tree:\", best_params_gb)\n",
    "print(\"Accuracy of the Best Decision Tree Model:\", accuracy_gb)"
   ]
  },
  {
   "cell_type": "code",
   "execution_count": 18,
   "id": "78d5683e",
   "metadata": {},
   "outputs": [
    {
     "name": "stdout",
     "output_type": "stream",
     "text": [
      "Classification Report:\n",
      "              precision    recall  f1-score   support\n",
      "\n",
      "           A       0.47      0.46      0.46      2601\n",
      "           D       0.37      0.02      0.04      2350\n",
      "           H       0.52      0.82      0.64      3962\n",
      "\n",
      "    accuracy                           0.50      8913\n",
      "   macro avg       0.45      0.43      0.38      8913\n",
      "weighted avg       0.46      0.50      0.43      8913\n",
      "\n",
      "0.5030853809042971\n"
     ]
    },
    {
     "data": {
      "image/png": "[encoded data removed]",
      "text/plain": [
       "<Figure size 800x600 with 1 Axes>"
      ]
     },
     "metadata": {},
     "output_type": "display_data"
    }
   ],
   "source": [
    "from sklearn.metrics import confusion_matrix\n",
    "from sklearn.metrics import classification_report\n",
    "\n",
    "y_test_pred = best_model_gb.predict(X_test)\n",
    "\n",
    "# Display the classification report\n",
    "print(\"Classification Report:\")\n",
    "print(classification_report(y_test, y_test_pred))\n",
    "print(best_model_gb.score(X_test, y_test))\n",
    "\n",
    "# Create the confusion matrix\n",
    "conf_matrix = confusion_matrix(y_test, y_test_pred)\n",
    "\n",
    "# Plot the heatmap\n",
    "plt.figure(figsize=(8, 6))\n",
    "sns.heatmap(conf_matrix, annot=True, fmt=\"d\", cmap=\"Blues\", cbar=False)\n",
    "plt.xlabel(\"Predicted Label\")\n",
    "plt.ylabel(\"True Label\")\n",
    "plt.title(\"Gradient Boost Confusion Matrix\")\n",
    "plt.show()"
   ]
  },
  {
   "cell_type": "markdown",
   "id": "90a2b277",
   "metadata": {},
   "source": [
    "# Subset of columns\n"
   ]
  },
  {
   "cell_type": "markdown",
   "id": "cefb4a40",
   "metadata": {},
   "source": [
    "## Random forest\n"
   ]
  },
  {
   "cell_type": "code",
   "execution_count": 19,
   "id": "b5250883",
   "metadata": {},
   "outputs": [
    {
     "data": {
      "text/plain": [
       "['Match Week',\n",
       " 'FullTimeResult',\n",
       " 'Weekday',\n",
       " 'Month',\n",
       " 'Points before match_home',\n",
       " 'Points before match_away',\n",
       " 'League Position_home',\n",
       " 'League Position_away',\n",
       " 'Form_home',\n",
       " 'Form_away',\n",
       " 'AverageFullTimeGoalsFor_home',\n",
       " 'AverageFullTimeGoalsFor_away',\n",
       " 'AverageFullTimeGoalsAgainst_home',\n",
       " 'AverageFullTimeGoalsAgainst_away',\n",
       " 'AverageHalfTimeGoalsFor_home',\n",
       " 'AverageHalfTimeGoalsFor_away',\n",
       " 'AverageHalfTimeGoalsAgainst_home',\n",
       " 'AverageHalfTimeGoalsAgainst_away',\n",
       " 'AverageShots_home',\n",
       " 'AverageShots_away',\n",
       " 'AverageShotsAgainst_home',\n",
       " 'AverageShotsAgainst_away',\n",
       " 'AverageShotsOnTarget_home',\n",
       " 'AverageShotsOnTarget_away',\n",
       " 'AverageShotsOnTargetAgainst_home',\n",
       " 'AverageShotsOnTargetAgainst_away',\n",
       " 'AverageFoulsCommited_home',\n",
       " 'AverageFoulsCommited_away',\n",
       " 'AverageFoulsAgainst_home',\n",
       " 'AverageFoulsAgainst_away',\n",
       " 'AverageCorners_home',\n",
       " 'AverageCorners_away',\n",
       " 'AverageCornersAgainst_home',\n",
       " 'AverageCornersAgainst_away',\n",
       " 'AverageYellowCards_home',\n",
       " 'AverageYellowCards_away',\n",
       " 'AverageYellowCardsAgainst_home',\n",
       " 'AverageYellowCardsAgainst_away',\n",
       " 'AverageRedCards_home',\n",
       " 'AverageRedCards_away',\n",
       " 'AverageRedCardsAgainst_home',\n",
       " 'AverageRedCardsAgainst_away',\n",
       " 'Country_Belgium',\n",
       " 'Country_England',\n",
       " 'Country_France',\n",
       " 'Country_Germany',\n",
       " 'Country_Greece',\n",
       " 'Country_Italy',\n",
       " 'Country_Netherlands',\n",
       " 'Country_Portugal',\n",
       " 'Country_Scotland',\n",
       " 'Country_Spain',\n",
       " 'Country_Turkey',\n",
       " 'Div_B1',\n",
       " 'Div_D1',\n",
       " 'Div_D2',\n",
       " 'Div_E0',\n",
       " 'Div_E1',\n",
       " 'Div_F1',\n",
       " 'Div_F2',\n",
       " 'Div_G1',\n",
       " 'Div_I1',\n",
       " 'Div_I2',\n",
       " 'Div_N1',\n",
       " 'Div_P1',\n",
       " 'Div_SC0',\n",
       " 'Div_SC1',\n",
       " 'Div_SP1',\n",
       " 'Div_SP2',\n",
       " 'Div_T1',\n",
       " 'HomeCity_A Coruña ',\n",
       " 'HomeCity_Aberdeen',\n",
       " 'HomeCity_Ajaccio ',\n",
       " 'HomeCity_Almería ',\n",
       " 'HomeCity_Annecy ',\n",
       " 'HomeCity_Augsburg ',\n",
       " 'HomeCity_Auxerre ',\n",
       " 'HomeCity_Barcelona ',\n",
       " 'HomeCity_Barnsley ',\n",
       " 'HomeCity_Bastia ',\n",
       " 'HomeCity_Berlin ',\n",
       " 'HomeCity_Bilbao ',\n",
       " 'HomeCity_Birmingham ',\n",
       " 'HomeCity_Blackburn ',\n",
       " 'HomeCity_Blackpool ',\n",
       " 'HomeCity_Bolton ',\n",
       " 'HomeCity_Bordeaux ',\n",
       " 'HomeCity_Bournemouth',\n",
       " 'HomeCity_Braunschweig ',\n",
       " 'HomeCity_Bremen ',\n",
       " 'HomeCity_Brest',\n",
       " 'HomeCity_Brighton ',\n",
       " 'HomeCity_Bristol ',\n",
       " 'HomeCity_Burnley ',\n",
       " 'HomeCity_Caen ',\n",
       " 'HomeCity_Cardiff ',\n",
       " 'HomeCity_Cologne ',\n",
       " 'HomeCity_Cornellà de Llobregat ',\n",
       " 'HomeCity_Coventry ',\n",
       " 'HomeCity_Derby ',\n",
       " 'HomeCity_Dijon',\n",
       " 'HomeCity_Dingvall',\n",
       " 'HomeCity_Doncaster ',\n",
       " 'HomeCity_Dortmund ',\n",
       " 'HomeCity_Dundee',\n",
       " 'HomeCity_Dunfermline',\n",
       " 'HomeCity_Düsseldorf ',\n",
       " 'HomeCity_Edinburgh',\n",
       " 'HomeCity_Elche ',\n",
       " 'HomeCity_Falkirk',\n",
       " 'HomeCity_Frankfurt ',\n",
       " 'HomeCity_Freiburg ',\n",
       " 'HomeCity_Fürth ',\n",
       " 'HomeCity_Gelsenkirchen ',\n",
       " 'HomeCity_Getafe ',\n",
       " 'HomeCity_Gijón',\n",
       " 'HomeCity_Glasgow',\n",
       " 'HomeCity_Granada ',\n",
       " 'HomeCity_Greenwich',\n",
       " 'HomeCity_Guingamp ',\n",
       " 'HomeCity_Hamburg ',\n",
       " 'HomeCity_Hamilton',\n",
       " 'HomeCity_Hanover ',\n",
       " 'HomeCity_Huddersfield',\n",
       " 'HomeCity_Ipswich ',\n",
       " 'HomeCity_Iverness',\n",
       " 'HomeCity_Kaiserslautern ',\n",
       " 'HomeCity_Kilmarnock',\n",
       " 'HomeCity_Kingston upon Hull ',\n",
       " 'HomeCity_Leeds ',\n",
       " 'HomeCity_Leicester ',\n",
       " 'HomeCity_Leverkusen ',\n",
       " 'HomeCity_Liverpool ',\n",
       " 'HomeCity_Livingston',\n",
       " 'HomeCity_London ',\n",
       " 'HomeCity_Lorient ',\n",
       " 'HomeCity_Luton',\n",
       " 'HomeCity_Lyon ',\n",
       " 'HomeCity_Madrid ',\n",
       " 'HomeCity_Mainz ',\n",
       " 'HomeCity_Manchester ',\n",
       " 'HomeCity_Marseille ',\n",
       " 'HomeCity_Middlesbrough ',\n",
       " 'HomeCity_Monaco ',\n",
       " 'HomeCity_Montbéliard ',\n",
       " 'HomeCity_Montpellier ',\n",
       " 'HomeCity_Motherwell',\n",
       " 'HomeCity_Munich ',\n",
       " 'HomeCity_Málaga ',\n",
       " 'HomeCity_Mönchengladbach ',\n",
       " 'HomeCity_Nantes ',\n",
       " 'HomeCity_Newcastle upon Tyne ',\n",
       " 'HomeCity_Nice ',\n",
       " 'HomeCity_Norwich ',\n",
       " 'HomeCity_Nottingham ',\n",
       " 'HomeCity_Nuremberg ',\n",
       " 'HomeCity_Paisley',\n",
       " 'HomeCity_Palma ',\n",
       " 'HomeCity_Pamplona ',\n",
       " 'HomeCity_Paris ',\n",
       " 'HomeCity_Perth',\n",
       " 'HomeCity_Peterborough ',\n",
       " 'HomeCity_Preston',\n",
       " 'HomeCity_Reading ',\n",
       " 'HomeCity_Reims ',\n",
       " 'HomeCity_Rennes ',\n",
       " 'HomeCity_Rotherham',\n",
       " 'HomeCity_Saint-Étienne ',\n",
       " 'HomeCity_San Sebastián ',\n",
       " 'HomeCity_Santander',\n",
       " 'HomeCity_Seville ',\n",
       " 'HomeCity_Sheffield',\n",
       " 'HomeCity_Sinsheim ',\n",
       " 'HomeCity_Southampton ',\n",
       " 'HomeCity_Stoke-on-Trent ',\n",
       " 'HomeCity_Stretford ',\n",
       " 'HomeCity_Stuttgart ',\n",
       " 'HomeCity_Sunderland ',\n",
       " 'HomeCity_Swansea ',\n",
       " 'HomeCity_Tomblaine ',\n",
       " 'HomeCity_Toulouse ',\n",
       " 'HomeCity_Troyes',\n",
       " 'HomeCity_Valencia ',\n",
       " 'HomeCity_Valenciennes ',\n",
       " 'HomeCity_Valladolid ',\n",
       " 'HomeCity_Vigo ',\n",
       " 'HomeCity_Villarreal ',\n",
       " \"HomeCity_Villeneuve-d'Ascq \",\n",
       " 'HomeCity_Watford ',\n",
       " 'HomeCity_West Bromwich ',\n",
       " 'HomeCity_Wigan ',\n",
       " 'HomeCity_Wolfsburg ',\n",
       " 'HomeCity_Wolverhampton ',\n",
       " 'HomeCity_Yeovil',\n",
       " 'HomeCity_Zaragoza ']"
      ]
     },
     "execution_count": 19,
     "metadata": {},
     "output_type": "execute_result"
    }
   ],
   "source": [
    "df.columns.tolist()"
   ]
  },
  {
   "cell_type": "code",
   "execution_count": 20,
   "id": "20d2a9c0",
   "metadata": {
    "code_folding": []
   },
   "outputs": [],
   "source": [
    "X_df = df[['Match Week',\n",
    " 'Weekday',\n",
    " 'Month',\n",
    " 'Points before match_home',\n",
    " 'Points before match_away',\n",
    " 'League Position_home',\n",
    " 'League Position_away',\n",
    " 'Form_home',\n",
    " 'Form_away',\n",
    " 'AverageFullTimeGoalsFor_home',\n",
    " 'AverageFullTimeGoalsFor_away',\n",
    " 'AverageFullTimeGoalsAgainst_home',\n",
    " 'AverageFullTimeGoalsAgainst_away',\n",
    " 'AverageHalfTimeGoalsFor_home',\n",
    " 'AverageHalfTimeGoalsFor_away',\n",
    " 'AverageHalfTimeGoalsAgainst_home',\n",
    " 'AverageHalfTimeGoalsAgainst_away',\n",
    " 'AverageShots_home',\n",
    " 'AverageShots_away',\n",
    " 'AverageShotsAgainst_home',\n",
    " 'AverageShotsAgainst_away',\n",
    " 'AverageShotsOnTarget_home',\n",
    " 'AverageShotsOnTarget_away',\n",
    " 'AverageShotsOnTargetAgainst_home',\n",
    " 'AverageShotsOnTargetAgainst_away',\n",
    " 'AverageFoulsCommited_home',\n",
    " 'AverageFoulsCommited_away',\n",
    " 'AverageFoulsAgainst_home',\n",
    " 'AverageFoulsAgainst_away',\n",
    " 'AverageCorners_home',\n",
    " 'AverageCorners_away',\n",
    " 'AverageCornersAgainst_home',\n",
    " 'AverageCornersAgainst_away', \n",
    " 'FullTimeResult']].copy()\n",
    "\n",
    "\n",
    "\n",
    "\n"
   ]
  },
  {
   "cell_type": "code",
   "execution_count": 21,
   "id": "4cbdeb0f",
   "metadata": {},
   "outputs": [
    {
     "data": {
      "text/plain": [
       "(44565, 34)"
      ]
     },
     "execution_count": 21,
     "metadata": {},
     "output_type": "execute_result"
    }
   ],
   "source": [
    "X_df.dropna(inplace=True)\n",
    "X_df.shape"
   ]
  },
  {
   "cell_type": "code",
   "execution_count": 22,
   "id": "ce6abb1c",
   "metadata": {},
   "outputs": [],
   "source": [
    "X = X_df.drop(['FullTimeResult'], axis=1)\n",
    "y = X_df['FullTimeResult']"
   ]
  },
  {
   "cell_type": "code",
   "execution_count": 23,
   "id": "8b1de252",
   "metadata": {},
   "outputs": [],
   "source": [
    "# Split the data into training and testing sets\n",
    "X_train, X_test, y_train, y_test = train_test_split(X, y, test_size=0.2, random_state=42)"
   ]
  },
  {
   "cell_type": "code",
   "execution_count": 24,
   "id": "dc3283fe",
   "metadata": {},
   "outputs": [
    {
     "name": "stdout",
     "output_type": "stream",
     "text": [
      "Best Hyperparameters are: {'max_depth': 10, 'min_samples_leaf': 1, 'min_samples_split': 2, 'n_estimators': 100}\n",
      "Accuracy of the Best accuracy is: 0.5020756198810726\n"
     ]
    }
   ],
   "source": [
    "from sklearn.model_selection import GridSearchCV\n",
    "from sklearn.ensemble import RandomForestClassifier\n",
    "\n",
    "# Define the hyperparameter grid for Random Forest\n",
    "param_grid_rf = {\n",
    "    'n_estimators': [50, 100],\n",
    "    'max_depth': [None, 5, 10],\n",
    "    'min_samples_split': [2, 5, 10],\n",
    "    'min_samples_leaf': [1, 2, 4]\n",
    "}\n",
    "\n",
    "# Create the Random Forest classifier\n",
    "random_forest = RandomForestClassifier(random_state=42)\n",
    "\n",
    "# Create the GridSearchCV object for Random Forest\n",
    "grid_search_rf = GridSearchCV(random_forest, param_grid_rf, cv=5)\n",
    "\n",
    "# Fit the GridSearchCV object on the scaled training data\n",
    "grid_search_rf.fit(X_train, y_train)\n",
    "\n",
    "# Get the best hyperparameters and the best model for Random Forest\n",
    "best_params_rf = grid_search_rf.best_params_\n",
    "best_model_rf = grid_search_rf.best_estimator_\n",
    "\n",
    "# Evaluate the best Random Forest model on the test data\n",
    "accuracy_rf = best_model_rf.score(X_test, y_test)\n",
    "\n",
    "# Print the best hyperparameters and accuracy\n",
    "print(\"Best Hyperparameters are:\", best_params_rf)\n",
    "print(\"Accuracy of the Best accuracy is:\", accuracy_rf)"
   ]
  },
  {
   "cell_type": "code",
   "execution_count": 25,
   "id": "5a086740",
   "metadata": {},
   "outputs": [
    {
     "name": "stdout",
     "output_type": "stream",
     "text": [
      "Classification Report:\n",
      "              precision    recall  f1-score   support\n",
      "\n",
      "           A       0.48      0.43      0.45      2601\n",
      "           D       0.35      0.00      0.01      2350\n",
      "           H       0.51      0.84      0.64      3962\n",
      "\n",
      "    accuracy                           0.50      8913\n",
      "   macro avg       0.45      0.43      0.37      8913\n",
      "weighted avg       0.46      0.50      0.42      8913\n",
      "\n",
      "0.5020756198810726\n"
     ]
    },
    {
     "data": {
      "image/png": "[encoded data removed]",
      "text/plain": [
       "<Figure size 800x600 with 1 Axes>"
      ]
     },
     "metadata": {},
     "output_type": "display_data"
    }
   ],
   "source": [
    "y_test_pred = best_model_rf.predict(X_test)\n",
    "\n",
    "# Display the classification report\n",
    "print(\"Classification Report:\")\n",
    "print(classification_report(y_test, y_test_pred))\n",
    "print(best_model_rf.score(X_test, y_test))\n",
    "\n",
    "# Create the confusion matrix\n",
    "conf_matrix = confusion_matrix(y_test, y_test_pred)\n",
    "\n",
    "# Plot the heatmap\n",
    "plt.figure(figsize=(8, 6))\n",
    "sns.heatmap(conf_matrix, annot=True, fmt=\"d\", cmap=\"Blues\", cbar=False)\n",
    "plt.xlabel(\"Predicted Label\")\n",
    "plt.ylabel(\"True Label\")\n",
    "plt.title(\"Random Forest Confusion Matrix with Undersampling\")\n",
    "plt.show()"
   ]
  },
  {
   "cell_type": "markdown",
   "id": "b9c299df",
   "metadata": {},
   "source": [
    "## Grad boost\n"
   ]
  },
  {
   "cell_type": "code",
   "execution_count": 26,
   "id": "f358cbc1",
   "metadata": {},
   "outputs": [
    {
     "name": "stdout",
     "output_type": "stream",
     "text": [
      "{'learning_rate': 0.1, 'max_depth': 5, 'n_estimators': 50}\n",
      "0.5023000112195669\n"
     ]
    }
   ],
   "source": [
    "from sklearn.model_selection import GridSearchCV\n",
    "from sklearn.ensemble import GradientBoostingClassifier\n",
    "\n",
    "# Split the data into training and testing sets\n",
    "X_train, X_test, y_train, y_test = train_test_split(X, y, test_size=0.2, random_state=42)\n",
    "\n",
    "\n",
    "# Define the hyperparameter grid for Gradient Boosting\n",
    "param_grid_gb = {\n",
    "    'n_estimators': [50, 100],\n",
    "    'learning_rate': [0.01, 0.1, 0.2],\n",
    "    'max_depth': [3, 5, 7]\n",
    "}\n",
    "\n",
    "# Create the Gradient Boosting classifier\n",
    "gradient_boosting = GradientBoostingClassifier(random_state=42)\n",
    "\n",
    "# Create the GridSearchCV object for Gradient Boosting\n",
    "grid_search_gb = GridSearchCV(gradient_boosting, param_grid_gb, cv=5)\n",
    "\n",
    "# Fit the GridSearchCV object on the scaled training data\n",
    "grid_search_gb.fit(X_train, y_train)\n",
    "\n",
    "# Get the best hyperparameters and the best model for Gradient Boosting\n",
    "best_params_gb = grid_search_gb.best_params_\n",
    "best_model_gb = grid_search_gb.best_estimator_\n",
    "\n",
    "# Evaluate the best Gradient Boosting model on the test data\n",
    "accuracy_gb = best_model_gb.score(X_test, y_test)\n",
    "\n",
    "\n",
    "print(best_params_gb)\n",
    "print(accuracy_gb)"
   ]
  },
  {
   "cell_type": "code",
   "execution_count": 27,
   "id": "aed80ffe",
   "metadata": {},
   "outputs": [
    {
     "name": "stdout",
     "output_type": "stream",
     "text": [
      "Classification Report:\n",
      "              precision    recall  f1-score   support\n",
      "\n",
      "           A       0.47      0.46      0.46      2601\n",
      "           D       0.38      0.03      0.05      2350\n",
      "           H       0.52      0.81      0.63      3962\n",
      "\n",
      "    accuracy                           0.50      8913\n",
      "   macro avg       0.45      0.43      0.38      8913\n",
      "weighted avg       0.47      0.50      0.43      8913\n",
      "\n",
      "0.5023000112195669\n"
     ]
    },
    {
     "data": {
      "image/png": "[encoded data removed]",
      "text/plain": [
       "<Figure size 800x600 with 1 Axes>"
      ]
     },
     "metadata": {},
     "output_type": "display_data"
    }
   ],
   "source": [
    "y_test_pred = best_model_gb.predict(X_test)\n",
    "\n",
    "# Display the classification report\n",
    "print(\"Classification Report:\")\n",
    "print(classification_report(y_test, y_test_pred))\n",
    "print(best_model_gb.score(X_test, y_test))\n",
    "\n",
    "# Create the confusion matrix\n",
    "conf_matrix = confusion_matrix(y_test, y_test_pred)\n",
    "\n",
    "# Plot the heatmap\n",
    "plt.figure(figsize=(8, 6))\n",
    "sns.heatmap(conf_matrix, annot=True, fmt=\"d\", cmap=\"Blues\", cbar=False)\n",
    "plt.xlabel(\"Predicted Label\")\n",
    "plt.ylabel(\"True Label\")\n",
    "plt.title(\"Gradient Boost Confusion Matrix\")\n",
    "plt.show()"
   ]
  },
  {
   "cell_type": "markdown",
   "id": "e077d5bf",
   "metadata": {},
   "source": [
    "We can also look at the strongest decision boundaries to get a better understanding of what features are important."
   ]
  },
  {
   "cell_type": "code",
   "execution_count": 29,
   "id": "915d5e54",
   "metadata": {},
   "outputs": [
    {
     "data": {
      "image/png": "[encoded data removed]",
      "text/plain": [
       "<Figure size 1400x1200 with 1 Axes>"
      ]
     },
     "metadata": {},
     "output_type": "display_data"
    }
   ],
   "source": [
    "from sklearn.tree import plot_tree\n",
    "# Get the first decision tree in the ensemble\n",
    "first_tree = best_model_gb.estimators_[0][0]\n",
    "\n",
    "# Get the feature names from the X_train DataFrame\n",
    "feature_names = X_train.columns\n",
    "\n",
    "# Plot the first decision tree with the top 2 levels and include feature names\n",
    "plt.figure(figsize=(14, 12))\n",
    "plot_tree(first_tree, filled=True, max_depth=2, feature_names=feature_names)\n",
    "plt.show()"
   ]
  },
  {
   "cell_type": "code",
   "execution_count": null,
   "id": "5d2726ec",
   "metadata": {},
   "outputs": [],
   "source": []
  }
 ],
 "metadata": {
  "kernelspec": {
   "display_name": "Python 3 (ipykernel)",
   "language": "python",
   "name": "python3"
  },
  "language_info": {
   "codemirror_mode": {
    "name": "ipython",
    "version": 3
   },
   "file_extension": ".py",
   "mimetype": "text/x-python",
   "name": "python",
   "nbconvert_exporter": "python",
   "pygments_lexer": "ipython3",
   "version": "3.8.17"
  },
  "toc": {
   "base_numbering": "0",
   "nav_menu": {},
   "number_sections": true,
   "sideBar": true,
   "skip_h1_title": false,
   "title_cell": "Table of Contents",
   "title_sidebar": "Contents",
   "toc_cell": true,
   "toc_position": {
    "height": "calc(100% - 180px)",
    "left": "10px",
    "top": "150px",
    "width": "307.2px"
   },
   "toc_section_display": true,
   "toc_window_display": false
  }
 },
 "nbformat": 4,
 "nbformat_minor": 5
}
